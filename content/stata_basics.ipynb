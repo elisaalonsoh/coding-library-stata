{
 "cells": [
  {
   "attachments": {},
   "cell_type": "markdown",
   "metadata": {},
   "source": [
    "# STATA BASICS\n",
    "As much as we all complain about Stata, it does make coding pretty simple for most things you need in econ. \n",
    "\n",
    "First, the following [template](../dofiles/stata_setup.do) shows the basic set up I like to use for dofiles. Some comments:\n",
    "- For collaborations: write your name/abbrev when you do a modification so we can know who to ask."
   ]
  },
  {
   "attachments": {},
   "cell_type": "markdown",
   "metadata": {},
   "source": [
    "## Miscellaneous tips \n",
    "- Dropping variables in a loop: many times a loop will create variables, that need to be deleted at the second run. To do this, use `capture drop varname`. However, note that if ANY of the variable names is not found, none of the variables will be dropped (if this is a potential issue, use `cap drop` inside a loop)"
   ]
  }
 ],
 "metadata": {
  "kernelspec": {
   "display_name": "Stata",
   "language": "stata",
   "name": "stata"
  },
  "language_info": {
   "name": "stata"
  },
  "orig_nbformat": 4
 },
 "nbformat": 4,
 "nbformat_minor": 2
}
