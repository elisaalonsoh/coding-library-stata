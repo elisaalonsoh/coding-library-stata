{
 "cells": [
  {
   "attachments": {},
   "cell_type": "markdown",
   "metadata": {},
   "source": [
    "# Data cleaning"
   ]
  },
  {
   "cell_type": "markdown",
   "metadata": {},
   "source": [
    "## Dummy variables\n",
    "\n",
    "If we chave a variable with several categories that we want to code into individual dummies, and automatically create a label with their indiividual cateogry value we can use `tab var, gen(prefix_)`"
   ]
  },
  {
   "cell_type": "markdown",
   "metadata": {},
   "source": [
    "## Missing Data\n",
    "When working with missing data, first we need to consider whz the data is missing. If we assume data is missing at random, deleting the observations with missing values shouldnät bias our analysis, but this is an assumption that would rarely hold.\n",
    "\n",
    "### How does Stata handle missing data?\n",
    "Stata uses only non-missing values when providing summary statistics and tabulations. If an observation is missing data for a variable in the regression model, that observation is excluded from the regression (treated as missing at random!).\n",
    "\n",
    "### Checking missing data patterns:\n",
    "The command `sumarize` gives you the amount of missing data, but there are external packages that provide a more in depth analysis of missing data pattens."
   ]
  },
  {
   "cell_type": "markdown",
   "metadata": {},
   "source": [
    "### Dropping missing data\n",
    "To drop observations with missing numeric data use `drop if var == .` and for string data us `drop if var == \"\"`. The comand `drop if missing(var)` can drop missing observations no matter the variable's type.\n",
    "\n",
    "### Filling missing data:\n",
    "\n",
    "#### Filling missing periods in a panel data:\n",
    "Sometimes we want to have a balanced panel even if the variables of interest are missing (or later recoded as 0, or some value), but not all periods appear in our dataset. Once we have `xtset` our data, we can use the command `tsfill` to create the new missing time periods for each of our ids (it can also be used with only time data)."
   ]
  },
  {
   "cell_type": "markdown",
   "metadata": {},
   "source": [
    "## Labelling\n",
    "- Label a variable: `label variable var \"label\"`\n",
    "- Retrieve value of a label: `local lab: variable label var`\n",
    "- Label values: \n",
    "    1. `label define var_values val1 \"lab1\" val2 \"lab2\"` where val_values is the placeholder representing the labels that you are gonna assign to the variable of interest.\n",
    "    2. `label value var var_values`\n"
   ]
  },
  {
   "cell_type": "code",
   "execution_count": null,
   "metadata": {},
   "outputs": [],
   "source": []
  }
 ],
 "metadata": {
  "kernelspec": {
   "display_name": "Stata",
   "language": "stata",
   "name": "stata"
  },
  "language_info": {
   "name": "stata",
   "version": "3.9.12"
  },
  "orig_nbformat": 4,
  "vscode": {
   "interpreter": {
    "hash": "2d93c04e7cf2b6f93e89c986018ba3df2ad72bd87d84c5e7f7aad7bcbcadb62f"
   }
  }
 },
 "nbformat": 4,
 "nbformat_minor": 2
}
