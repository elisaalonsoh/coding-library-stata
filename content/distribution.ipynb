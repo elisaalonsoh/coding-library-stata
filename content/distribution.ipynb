{
 "cells": [
  {
   "cell_type": "markdown",
   "metadata": {},
   "source": [
    "# Distribution\n"
   ]
  },
  {
   "cell_type": "code",
   "execution_count": null,
   "metadata": {},
   "outputs": [],
   "source": [
    "## Density plot\n",
    "\n"
   ]
  },
  {
   "cell_type": "code",
   "execution_count": null,
   "metadata": {},
   "outputs": [],
   "source": [
    "import delimited \"https://raw.githubusercontent.com/tidyverse/ggplot2/master/data-raw/mpg.csv\", clear\n",
    "\n",
    "* Save each \n",
    "levelsof cyl, local(cylinders)\n",
    "\n",
    "* \n",
    "foreach cylinder of local cylinders { \n",
    "    quietly summarize cty\n",
    "    local kden \"`kden' (kdensity cty if cyl == `cylinder', range(`r(min)' `r(max)') recast(area) fcolor(%70) lwidth(*0.25))\"\n",
    "}\n",
    "\n",
    "twoway `kden',  scheme(white_w3d) ///\n",
    "    legend(subtitle(\"Cylinders\", size(2)) label(1 \"4\") label(2 \"5\") label(3 \"6\") label(4 \"8\") rowgap(0.25) size(2)) ///\n",
    "    title(\"{bf}Density Plot\", pos(11) size(2.75)) ///\n",
    "    ytitle(\"Density\", size(2) orient(horizontal)) ///\n",
    "    ylabel(, nogrid labsize(2)) ///\n",
    "    xtitle(\"City Mileage\", size(2)) ///\n",
    "    xlabel(, nogrid labsize(2)) ///\n",
    "    subtitle(\"City Mileage over number of cylinders\", pos(11) size(2)) "
   ]
  }
 ],
 "metadata": {
  "kernelspec": {
   "display_name": "Stata",
   "language": "stata",
   "name": "stata"
  },
  "language_info": {
   "name": "stata"
  },
  "orig_nbformat": 4
 },
 "nbformat": 4,
 "nbformat_minor": 2
}
