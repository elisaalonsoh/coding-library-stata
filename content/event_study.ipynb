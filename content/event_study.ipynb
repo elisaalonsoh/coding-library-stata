{
 "cells": [
  {
   "attachments": {},
   "cell_type": "markdown",
   "metadata": {},
   "source": [
    "# EVENT STUDIES\n",
    "## Quick brush-up"
   ]
  },
  {
   "attachments": {},
   "cell_type": "markdown",
   "metadata": {},
   "source": [
    "## Event study setup:\n",
    "Before running the event study, we need to make sure our data is in event time"
   ]
  },
  {
   "cell_type": "code",
   "execution_count": null,
   "metadata": {},
   "outputs": [
    {
     "ename": "",
     "evalue": "",
     "output_type": "error",
     "traceback": [
      "\u001b[1;31mThe kernel failed to start as a dll could not be loaded.\n",
      "\u001b[1;31mClick <a href='https://aka.ms/kernelFailuresDllLoad'>here</a> for more info."
     ]
    }
   ],
   "source": [
    "* Create event time\n",
    "    gen event_time= treatment_date - date"
   ]
  },
  {
   "attachments": {},
   "cell_type": "markdown",
   "metadata": {},
   "source": [
    "## Event studies in Stata:\n",
    "### Manual event study:"
   ]
  },
  {
   "cell_type": "code",
   "execution_count": null,
   "metadata": {},
   "outputs": [
    {
     "ename": "",
     "evalue": "",
     "output_type": "error",
     "traceback": [
      "\u001b[1;31mThe kernel failed to start as a dll could not be loaded.\n",
      "\u001b[1;31mClick <a href='https://aka.ms/kernelFailuresDllLoad'>here</a> for more info."
     ]
    }
   ],
   "source": [
    "*** This code snippet runs a manual event study\n",
    "\n",
    "* Make dummies representing each event_time value\n",
    "\tkeep if inrange(event_time, low_bound, upper_bound)\n",
    "\tchar event_time[omit] -1  // Chose which value will be omitted by \"xi\"\n",
    "\txi i.event_time, pref(\"i_\")\n",
    "\n",
    "* Run regression of choice:\n",
    "\tglobal event_dummies i_event_tim_1-i_event_tim_10\n",
    "\t\n",
    "\tregdhf outcome $event_dummies, absorb(fixed effects) vce(cluster id)\n",
    "\n",
    "* Get coefiecients and SEs\n",
    "\tmatrix T=r(table)\n",
    "\t\n",
    "\tcapture drop voef* boundH* boundL* se*\n",
    "\tgen coef = 0 if event_time==-1\n",
    "\tgen se = 0 if event_time==-1\n",
    "\n",
    "* Fill in values\n",
    "\tforeach x of numlist 1/4 6/10 {\n",
    "\t\treplace coef=T[1,colnumb(T, \"i_event_tim_`x'\")] if event_time==`x' - 6\n",
    "\t\treplace se=T[2,colnumb(T, \"i_event_tim_`x'\")] if event_time==`x' - 6\n",
    "\t}\n",
    "\n",
    "    gen boundH = coef + 1.96*se\n",
    "    gen boundL = coef - 1.96*se\n",
    "\n",
    "    keep if inrange(event_time, lower_bound-1, upper_bound)\n",
    "    collapse coef boundH boundL, by(event_time)\n",
    "    tw (rcap boundH boundL event_time, lcolor(black)) (scatter coef event_time, mcolor(black)), ///\n",
    "        xtitle(\"\") xline(-0.5, lcolor(gray)) legend(off) subtitle(\"\") "
   ]
  }
 ],
 "metadata": {
  "kernelspec": {
   "display_name": "Stata",
   "language": "stata",
   "name": "stata"
  },
  "language_info": {
   "name": "stata"
  },
  "orig_nbformat": 4
 },
 "nbformat": 4,
 "nbformat_minor": 2
}
