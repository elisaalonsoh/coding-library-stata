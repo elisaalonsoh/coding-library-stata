{
 "cells": [
  {
   "attachments": {},
   "cell_type": "markdown",
   "metadata": {},
   "source": [
    "# WORKING WITH RCT DATA\n",
    "Jump to:\n",
    "- [Balance tables](#balance-tables)\n",
    "- [Dealing with attrition](#dealing-with-attrition)\n",
    "\n",
    "---"
   ]
  },
  {
   "attachments": {},
   "cell_type": "markdown",
   "metadata": {},
   "source": [
    "## Balance tables\n",
    "\n",
    "---"
   ]
  },
  {
   "attachments": {},
   "cell_type": "markdown",
   "metadata": {},
   "source": [
    "## Dealing with attrition\n",
    "\n",
    "**Attrition** occurs in a longitudinal study when participants fail to respond one or more study follow-up waves. Problems:\n",
    "1. If the characteristics of attritors are correlated with the treatment assignment or effect size (*non-random attrition*), it can result attrition bias (similar to *non-response bias*)\n",
    "2. Even if attrition is random, it decreases *statistical power* as a result of the sample size decreasing.\n",
    "\n",
    "IMP: template for [attrition analysis](../dofiles/attrition_analysis.do)\n",
    "\n",
    "### Detecting attrition ⚙️\n",
    "We can examine the **overall rate of attrition** using the command `xtdescribe`. It is also essential to check for **differential attrition**, i.e. systematic differences in attrition rates between treatment and control groups. Some checks:\n",
    "1. Check for [balancedness](#balance-tables) for the participation in each wave\n",
    "2. Regress **attrition** on treatment, using the SAME specification used in the main analysis, i.e. with the same set of controls.\n",
    "3. Do the characteristcs of attrits vary by treatment assignment, by subgroup or by another observable characteristic?\n",
    "\n",
    "It is also important to check for **selective attrition**, i.e. whether baseline characterisitcs differ between treatment and control groups conditional on attrit vs non-attrit status.\n",
    "\n",
    "### Adjusting for attrition ⚙️"
   ]
  }
 ],
 "metadata": {
  "kernelspec": {
   "display_name": "Stata",
   "language": "stata",
   "name": "stata"
  },
  "language_info": {
   "name": "stata",
   "version": "3.9.12 (main, Apr  4 2022, 05:22:27) [MSC v.1916 64 bit (AMD64)]"
  },
  "orig_nbformat": 4,
  "vscode": {
   "interpreter": {
    "hash": "2d93c04e7cf2b6f93e89c986018ba3df2ad72bd87d84c5e7f7aad7bcbcadb62f"
   }
  }
 },
 "nbformat": 4,
 "nbformat_minor": 2
}
