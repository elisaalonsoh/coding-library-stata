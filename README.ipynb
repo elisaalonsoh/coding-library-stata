{
 "cells": [
  {
   "attachments": {},
   "cell_type": "markdown",
   "metadata": {},
   "source": [
    "# Welcome to my Stata Coding Library\n",
    "\n",
    "This is my personal collection of Stata templates (.do) and a mix of explanations and code snippets (in jupyter notebooks). I personally use VS code to edit my files because it has a great syntax completition features, and you can run Stata inside Jupyter Notebooks using [stata-kernel](https://kylebarron.dev/stata_kernel/).\n",
    "\n",
    "The core part of the library focuses on **tables** and **graphs**, which aim to automatically create *latex* output from the dofile. There are many ways to do create tables in *Stata*, and I include several of them while providing a short summary of why I prefer a certain way (usuallly it all boils down to code complexity vs customizability). As a sneak peak, I think 95% of what you will need to present can be done using some neat commands/packages, but knowing how to do it manually is useful for that frustating 5% left. \n",
    "\n",
    "This table of contents shows the basic structure of the library, but since it is in its super early stages, it is likely to change as I understand how I want to search/find content better at a later date. For now, I am grouping things based on whether they deal with data preparation, descriptives, or main analysis (further divided by types of research design). \n",
    "\n",
    "## STATA setup and data preparation\n",
    "\n",
    "1. [Stata Basics](./content/stata_basics.ipynb) : ex. basic dofile template, schemes\n",
    "2. [Basic Data Cleaning](./content/data_cleaning.ipynb)\n",
    "3. [Advanced: indices and multiple imputation]()\n",
    "\n",
    "## Descriptives\n",
    "\n",
    "1. [Distribution](./content/distribution.ipynb) : ex. histograms, k- densities\n",
    "2. Correlation\n",
    "\n",
    "## Main analysis\n",
    "\n",
    "1. [General regression outputs]() : ex. tables, coefficient plots.\n",
    "2. [Working with RCTs](./content/rct.ipynb) : ex. dealing with attrition, balance tables.\n",
    "3. [Event studies](./content/event_study.ipynb)\n",
    "4. Weirder figures: ex. bubble scatter\n",
    "\n",
    "---\n",
    "\n",
    "- To do:\n",
    "  - Include data, so you can run examples from the Jupyter Notebook files directly\n"
   ]
  }
 ],
 "metadata": {
  "kernelspec": {
   "display_name": "Stata",
   "language": "stata",
   "name": "stata"
  },
  "language_info": {
   "name": "stata",
   "version": "3.9.12 (main, Apr  4 2022, 05:22:27) [MSC v.1916 64 bit (AMD64)]"
  },
  "orig_nbformat": 4,
  "vscode": {
   "interpreter": {
    "hash": "2d93c04e7cf2b6f93e89c986018ba3df2ad72bd87d84c5e7f7aad7bcbcadb62f"
   }
  }
 },
 "nbformat": 4,
 "nbformat_minor": 2
}
